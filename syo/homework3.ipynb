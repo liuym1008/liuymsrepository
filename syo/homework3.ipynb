{
 "cells": [
  {
   "cell_type": "code",
   "execution_count": 6,
   "metadata": {},
   "outputs": [
    {
     "name": "stdout",
     "output_type": "stream",
     "text": [
      "13是不是一个质数：True\n"
     ]
    }
   ],
   "source": [
    "# 第一题：判断输入a是否为质数\n",
    "def whether_prime_number(num):\n",
    "    # 如果一个数小于2，则不可能是质数\n",
    "    if num < 2:\n",
    "        return False\n",
    "    for i in range(2, int(num ** 0.5) + 1):\n",
    "        if num % i == 0:\n",
    "            return False\n",
    "    return True\n",
    "\n",
    "# 用户输入一个整数\n",
    "integer = int(input(\"please input an integer: \"))\n",
    "# 调用函数\n",
    "result = whether_prime_number(integer)\n",
    "# 打印结果\n",
    "print(f\"{integer}是不是一个质数：{result}\")"
   ]
  },
  {
   "cell_type": "code",
   "execution_count": 8,
   "metadata": {},
   "outputs": [
    {
     "name": "stdout",
     "output_type": "stream",
     "text": [
      "排序前的数组: [37, 85, 13, 42, 9]\n",
      "排序后的数组: [9, 13, 37, 42, 85]\n"
     ]
    }
   ],
   "source": [
    "# 第二题：实现插入排序算法，不允许直接调用插入排序函数，需要手动实现其逻辑过程\n",
    "def achieve_insertion_sort(array):\n",
    "    # 得出数组长度\n",
    "    length = len(array)\n",
    "    for i in range (1, length):\n",
    "        # 当前需要插入的元素\n",
    "        w = array[i]\n",
    "        j = i - 1\n",
    "        while j >= 0 and array[j] > w:\n",
    "            array[j + 1] = array[j]\n",
    "            j -= 1\n",
    "        array[j + 1] = w\n",
    "    return array\n",
    "\n",
    "# 测试\n",
    "if __name__ == \"__main__\":  \n",
    "    arr = [37, 85, 13, 42, 9]  \n",
    "    print(\"排序前的数组:\", arr)  \n",
    "    sorted_arr = achieve_insertion_sort(arr)  \n",
    "    print(\"排序后的数组:\", sorted_arr)"
   ]
  },
  {
   "cell_type": "code",
   "execution_count": 9,
   "metadata": {},
   "outputs": [
    {
     "name": "stdout",
     "output_type": "stream",
     "text": [
      "排序前的数组: [64, 25, 12, 48, 39]\n",
      "排序后的数组: [12, 25, 39, 48, 64]\n"
     ]
    }
   ],
   "source": [
    "# 第三题：实现选择排序算法，不允许直接调用插入排序函数，需要手动实现其逻辑过程\n",
    "def achieve_selection_sort(array):\n",
    "    # 得出数组长度\n",
    "    length = len(array)\n",
    "    for i in range(length - 1):\n",
    "        # 假设当前元素是最小的\n",
    "        min_index = i\n",
    "        for j in range(i + 1, length):\n",
    "            if array[j] < array[min_index]:\n",
    "                min_index = j\n",
    "        # 将两个数交换\n",
    "        array[i], array[min_index] = array[min_index], array[i]  \n",
    "    return array\n",
    "\n",
    "# 测试\n",
    "if __name__ == \"__main__\":  \n",
    "    arr = [64, 25, 12, 48, 39]  \n",
    "    print(\"排序前的数组:\", arr)  \n",
    "    sorted_arr = achieve_selection_sort(arr)  \n",
    "    print(\"排序后的数组:\", sorted_arr)\n",
    "\n"
   ]
  },
  {
   "cell_type": "code",
   "execution_count": 1,
   "metadata": {},
   "outputs": [
    {
     "name": "stdout",
     "output_type": "stream",
     "text": [
      "未排序数组: [10, 7, 8, 9, 1, 5]\n",
      "已排序数组: [1, 5, 7, 8, 9, 10]\n"
     ]
    }
   ],
   "source": [
    "# 第四题：实现快速排序算法，不允许直接调用插入排序函数，需要手动实现其逻辑过程\n",
    "# 交换数组中的两个值\n",
    "def swap(array, i, j):\n",
    "    array[i], array[j] = array[j], array[i]\n",
    "\n",
    "# 分区\n",
    "def partition(array, left, right):\n",
    "    # 以最左边元素为基准\n",
    "    pivot = left\n",
    "    # 索引\n",
    "    i = pivot + 1\n",
    "    j = i\n",
    "    while j <= right:\n",
    "        if array[j] < array[pivot]:\n",
    "            swap(array, j, i)\n",
    "            i += 1\n",
    "        j += 1\n",
    "    swap(array, pivot, i - 1)\n",
    "    return i - 1\n",
    "\n",
    "# 实现快速排序\n",
    "def achieve_quick_sort(array):\n",
    "    def quick_sort(left, right):\n",
    "        if left < right:\n",
    "            pivot_index = partition(array, left, right)\n",
    "            quick_sort(left, pivot_index - 1)\n",
    "            quick_sort(pivot_index + 1, right)\n",
    "    quick_sort(0, len(array) - 1)\n",
    "    return array\n",
    "\n",
    "# 测试\n",
    "if __name__ == \"__main__\":  \n",
    "    arr = [10, 7, 8, 9, 1, 5]  \n",
    "    print(\"未排序数组:\", arr)  \n",
    "    sorted_arr = achieve_quick_sort(arr)  \n",
    "    print(\"已排序数组:\", sorted_arr)"
   ]
  },
  {
   "cell_type": "code",
   "execution_count": 13,
   "metadata": {},
   "outputs": [
    {
     "name": "stdout",
     "output_type": "stream",
     "text": [
      "数组长度为 100 时：\n",
      "选择排序 运行时间：0.000000 秒\n",
      "冒泡排序 运行时间：0.001046 秒\n",
      "归并排序 运行时间：0.000000 秒\n",
      "\n",
      "数组长度为 1000 时：\n",
      "选择排序 运行时间：0.003874 秒\n",
      "冒泡排序 运行时间：0.038427 秒\n",
      "归并排序 运行时间：0.001502 秒\n",
      "\n",
      "数组长度为 10000 时：\n",
      "选择排序 运行时间：1.333332 秒\n",
      "冒泡排序 运行时间：3.283696 秒\n",
      "归并排序 运行时间：0.019625 秒\n",
      "\n"
     ]
    }
   ],
   "source": [
    "# 第五题：随机生成三组长度递增的随机数列，长度分别为100、1000、10000，对生成的随机数组使用不同的排序算法\n",
    "# 例如：选择排序和归并排序，至少三种排序方法。对这些数列的数据排序，并分析不同排序算法在不同长度数列下的运行效果，例如运行时间等指标\n",
    "import random\n",
    "import time\n",
    "\n",
    "\n",
    "def achieve_selection_sort(arr):\n",
    "    n = len(arr)\n",
    "    for i in range(n):\n",
    "        min_idx = i\n",
    "        for j in range(i + 1, n):\n",
    "            if arr[j] < arr[min_idx]:\n",
    "                min_idx = j\n",
    "        arr[i], arr[min_idx] = arr[min_idx], arr[i]\n",
    "    return arr\n",
    "\n",
    "\n",
    "def achieve_bubble_sort(arr):\n",
    "    n = len(arr)\n",
    "    for i in range(n):\n",
    "        for j in range(0, n - i - 1):\n",
    "            if arr[j] > arr[j + 1]:\n",
    "                arr[j], arr[j + 1] = arr[j + 1], arr[j]\n",
    "    return arr\n",
    "\n",
    "\n",
    "def achieve_merge_sort(arr):\n",
    "    if len(arr) <= 1:\n",
    "        return arr\n",
    "    mid = len(arr) // 2\n",
    "    left = achieve_merge_sort(arr[:mid])\n",
    "    right = achieve_merge_sort(arr[mid:])\n",
    "    return merge(left, right)\n",
    "\n",
    "\n",
    "def merge(left, right):\n",
    "    result = []\n",
    "    i = j = 0\n",
    "    while i < len(left) and j < len(right):\n",
    "        if left[i] < right[j]:\n",
    "            result.append(left[i])\n",
    "            i += 1\n",
    "        else:\n",
    "            result.append(right[j])\n",
    "            j += 1\n",
    "    result.extend(left[i:])\n",
    "    result.extend(right[j:])\n",
    "    return result\n",
    "\n",
    "\n",
    "lengths = [100, 1000, 10000]\n",
    "algorithms = [achieve_selection_sort, achieve_bubble_sort, achieve_merge_sort]\n",
    "algorithm_names = [\"选择排序\", \"冒泡排序\", \"归并排序\"]\n",
    "\n",
    "for length in lengths:\n",
    "    arr = [random.randint(1, 1000) for _ in range(length)]\n",
    "    print(f\"数组长度为 {length} 时：\")\n",
    "    for algo, name in zip(algorithms, algorithm_names):\n",
    "        start_time = time.time()\n",
    "        sorted_arr = algo(arr.copy())\n",
    "        end_time = time.time()\n",
    "        print(f\"{name} 运行时间：{end_time - start_time:.6f} 秒\")\n",
    "    print()\n"
   ]
  },
  {
   "cell_type": "code",
   "execution_count": 2,
   "metadata": {},
   "outputs": [
    {
     "name": "stdout",
     "output_type": "stream",
     "text": [
      "当前系统时间:  2024-10-16 14:26:38.959502\n"
     ]
    }
   ],
   "source": [
    "# 第六题：获取当前系统时间\n",
    "from datetime import datetime  \n",
    "  \n",
    "# 获取当前日期和时间  \n",
    "time = datetime.now()  \n",
    "  \n",
    "# 打印当前日期和时间  \n",
    "print(\"当前系统时间: \", time)"
   ]
  },
  {
   "cell_type": "code",
   "execution_count": 9,
   "metadata": {},
   "outputs": [
    {
     "name": "stdout",
     "output_type": "stream",
     "text": [
      "   stuID  chinese  math  english\n",
      "0  10381       74    87       82\n",
      "1  10382       92    88       90\n",
      "2  10383       87    82       81\n",
      "3  10384       98    97       96\n",
      "4  10385       62    51       60\n",
      "语文平均成绩: 82.6\n",
      "数学平均成绩: 81.0\n",
      "英语平均成绩: 81.8\n"
     ]
    }
   ],
   "source": [
    "# 第七题：homework/data文件夹下的stuGrade.csv文件中包含5位同学的学号、语文成绩、数学成绩和英语成绩\n",
    "# 先用记事本打开该文件，查看文件内容，然后编写Python程序，读取该文件，并计算出各科的平均成绩（保留2位小数）\n",
    "import pandas as pd\n",
    "\n",
    "path = 'stuGrade.csv'\n",
    "data = pd.read_csv(path) \n",
    "\n",
    "# 读取文件\n",
    "x = data[['stuID', 'chinese', 'math', 'english']]\n",
    "print(x)\n",
    "\n",
    "# 计算各科平均成绩\n",
    "# 语文\n",
    "chinese_avg = data['chinese'].mean().round(2)  \n",
    "# 数学\n",
    "math_avg = data['math'].mean().round(2)  \n",
    "# 英语\n",
    "english_avg = data['english'].mean().round(2)\n",
    "\n",
    "# 输出平均成绩  \n",
    "print(f\"语文平均成绩: {chinese_avg}\")  \n",
    "print(f\"数学平均成绩: {math_avg}\")  \n",
    "print(f\"英语平均成绩: {english_avg}\")"
   ]
  },
  {
   "cell_type": "code",
   "execution_count": 12,
   "metadata": {},
   "outputs": [
    {
     "name": "stdout",
     "output_type": "stream",
     "text": [
      "81.0\n",
      "内容已写入my.txt\n"
     ]
    }
   ],
   "source": [
    "# 第八题：在第7题的代码继续编写Python程序，将以下内容写入my.txt文件中\n",
    "# 第1行：你的学号和姓名\n",
    "# 第2行：3门课程的平均成绩（任意课程），保留2位小数，以英文逗号间隔\n",
    "# 第3行：系统当前时间，格式例如2020-01-01 12:00:00\n",
    "# 第4行：两秒后的系统当前时间（利用sleep()方法）\n",
    "import pandas as pd  \n",
    "import datetime  \n",
    "import time  \n",
    "  \n",
    "# 文件路径  \n",
    "path = 'stuGrade.csv'  \n",
    "txt_path = 'my.txt'   \n",
    "data = pd.read_csv(path)  \n",
    "  \n",
    "# 学号和姓名\n",
    "student_id = '10381'  \n",
    "student_name = 'XXX'  \n",
    "  \n",
    "# 计算三个科目的平均值\n",
    "average = data.iloc[0, -3:].mean().round(2)\n",
    "print(average)\n",
    "\n",
    "# 获取系统当前时间  \n",
    "current_time = datetime.datetime.now().strftime('%Y-%m-%d %H:%M:%S')  \n",
    "  \n",
    "# 将内容写入my.txt文件  \n",
    "with open(txt_path, 'w', encoding='utf-8') as file:  \n",
    "    # 第1行：学号和姓名  \n",
    "    file.write(f\"{student_id} {student_name}\\n\")  \n",
    "      \n",
    "    # 第2行：3门课程的平均成绩，保留2位小数\n",
    "    file.write(f\"{average}\\n\")  \n",
    "      \n",
    "    # 第3行：系统当前时间  \n",
    "    file.write(current_time + '\\n')  \n",
    "      \n",
    "    # 等待两秒钟  \n",
    "    time.sleep(2)  \n",
    "      \n",
    "    # 获取两秒后的系统当前时间  \n",
    "    future_time = datetime.datetime.now().strftime('%Y-%m-%d %H:%M:%S')  \n",
    "      \n",
    "    # 第4行：两秒后的系统当前时间  \n",
    "    file.write(future_time + '\\n')  \n",
    "  \n",
    "print(f\"内容已写入{txt_path}\")"
   ]
  }
 ],
 "metadata": {
  "kernelspec": {
   "display_name": "Python 3",
   "language": "python",
   "name": "python3"
  },
  "language_info": {
   "codemirror_mode": {
    "name": "ipython",
    "version": 3
   },
   "file_extension": ".py",
   "mimetype": "text/x-python",
   "name": "python",
   "nbconvert_exporter": "python",
   "pygments_lexer": "ipython3",
   "version": "3.10.11"
  }
 },
 "nbformat": 4,
 "nbformat_minor": 2
}
