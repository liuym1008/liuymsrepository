{
 "cells": [
  {
   "cell_type": "code",
   "execution_count": 1,
   "metadata": {},
   "outputs": [
    {
     "name": "stdout",
     "output_type": "stream",
     "text": [
      "从大到小的顺序为：46.27, 34.9, 12.97\n"
     ]
    }
   ],
   "source": [
    "# 第二题\n",
    "x = float(input(\"please input the first number: \"))\n",
    "y = float(input(\"please input the second number: \"))\n",
    "z = float(input(\"please input the third number: \"))\n",
    "\n",
    "# 创建列表进行排序\n",
    "list = [x, y, z]\n",
    "sorted_list = sorted(list, reverse=True)\n",
    "\n",
    "# 打印顺序\n",
    "print(f\"从大到小的顺序为：{sorted_list[0]}, {sorted_list[1]}, {sorted_list[2]}\")"
   ]
  }
 ],
 "metadata": {
  "kernelspec": {
   "display_name": "Python 3",
   "language": "python",
   "name": "python3"
  },
  "language_info": {
   "codemirror_mode": {
    "name": "ipython",
    "version": 3
   },
   "file_extension": ".py",
   "mimetype": "text/x-python",
   "name": "python",
   "nbconvert_exporter": "python",
   "pygments_lexer": "ipython3",
   "version": "3.10.11"
  }
 },
 "nbformat": 4,
 "nbformat_minor": 2
}
