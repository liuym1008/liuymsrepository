{
 "cells": [
  {
   "cell_type": "code",
   "execution_count": 3,
   "metadata": {},
   "outputs": [
    {
     "name": "stdout",
     "output_type": "stream",
     "text": [
      "45和81的最大公约数是9\n"
     ]
    }
   ],
   "source": [
    "# 第二周作业第一题\n",
    "# 使用欧几里得算法实现求解最大公约数\n",
    "# 定义函数\n",
    "def gcd(a, b):\n",
    "    while b:\n",
    "        t = a % b\n",
    "        a = b\n",
    "        b = t\n",
    "    return a\n",
    "\n",
    "# 用户输入两个正整数\n",
    "m = int(input(\"please input the first positive integer: \"))\n",
    "n = int(input(\"please input the second positive integer: \"))\n",
    "\n",
    "# 调用函数\n",
    "print(\"%d和%d的最大公约数是%d\" % (m, n, gcd(m, n)))"
   ]
  }
 ],
 "metadata": {
  "kernelspec": {
   "display_name": "Python 3",
   "language": "python",
   "name": "python3"
  },
  "language_info": {
   "codemirror_mode": {
    "name": "ipython",
    "version": 3
   },
   "file_extension": ".py",
   "mimetype": "text/x-python",
   "name": "python",
   "nbconvert_exporter": "python",
   "pygments_lexer": "ipython3",
   "version": "3.10.11"
  }
 },
 "nbformat": 4,
 "nbformat_minor": 2
}
