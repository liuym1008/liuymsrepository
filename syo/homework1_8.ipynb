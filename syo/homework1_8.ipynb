{
 "cells": [
  {
   "cell_type": "code",
   "execution_count": 1,
   "metadata": {},
   "outputs": [
    {
     "name": "stdout",
     "output_type": "stream",
     "text": [
      "去掉空格之后的字符串为： DataScienceandEngineering\n"
     ]
    }
   ],
   "source": [
    "# 第八题\n",
    "# 用户输入一个字符串\n",
    "string = input(\"请输入一个字符串：\")\n",
    "# 去掉空格之后的字符串\n",
    "modified_string = string.replace(\" \", \"\")\n",
    "# 输出处理之后的字符串\n",
    "print(\"去掉空格之后的字符串为：\", modified_string)"
   ]
  }
 ],
 "metadata": {
  "kernelspec": {
   "display_name": "Python 3",
   "language": "python",
   "name": "python3"
  },
  "language_info": {
   "codemirror_mode": {
    "name": "ipython",
    "version": 3
   },
   "file_extension": ".py",
   "mimetype": "text/x-python",
   "name": "python",
   "nbconvert_exporter": "python",
   "pygments_lexer": "ipython3",
   "version": "3.10.11"
  }
 },
 "nbformat": 4,
 "nbformat_minor": 2
}
