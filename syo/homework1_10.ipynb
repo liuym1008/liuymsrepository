{
 "cells": [
  {
   "cell_type": "code",
   "execution_count": 1,
   "metadata": {},
   "outputs": [
    {
     "name": "stdout",
     "output_type": "stream",
     "text": [
      "4! = 24\n",
      "5! = 120\n"
     ]
    }
   ],
   "source": [
    "# 第十题\n",
    "# 定义函数计算阶乘\n",
    "def calculate_factorial(n):\n",
    "    if n < 0:\n",
    "        return False\n",
    "    elif n == 0 or n == 1:\n",
    "        return 1\n",
    "    else:\n",
    "        result = 1\n",
    "        for i in range(2, n + 1):\n",
    "            result *= i\n",
    "        return result\n",
    "    \n",
    "# 运行函数\n",
    "if __name__ == \"__main__\":\n",
    "    # 取number1为4\n",
    "    number1 = 4\n",
    "    # 输出4的阶乘结果\n",
    "    print(f\"{number1}! = {calculate_factorial(number1)}\")\n",
    "\n",
    "    # 取number2为5\n",
    "    number2 = 5\n",
    "    # 输出5的阶乘结果\n",
    "    print(f\"{number2}! = {calculate_factorial(number2)}\")"
   ]
  }
 ],
 "metadata": {
  "kernelspec": {
   "display_name": "Python 3",
   "language": "python",
   "name": "python3"
  },
  "language_info": {
   "codemirror_mode": {
    "name": "ipython",
    "version": 3
   },
   "file_extension": ".py",
   "mimetype": "text/x-python",
   "name": "python",
   "nbconvert_exporter": "python",
   "pygments_lexer": "ipython3",
   "version": "3.10.11"
  }
 },
 "nbformat": 4,
 "nbformat_minor": 2
}
