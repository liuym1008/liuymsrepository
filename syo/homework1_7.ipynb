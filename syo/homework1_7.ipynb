{
 "cells": [
  {
   "cell_type": "code",
   "execution_count": 1,
   "metadata": {},
   "outputs": [
    {
     "name": "stdout",
     "output_type": "stream",
     "text": [
      "字符串'abcccccda'是否包含连续字符：True\n"
     ]
    }
   ],
   "source": [
    "# 第七题\n",
    "# 定义函数检验是否存在连续字符\n",
    "def test_whether_have_same_character(s):\n",
    "    for i in range(1, len(s)):\n",
    "        if s[i] == s[i + 1]:\n",
    "            return True\n",
    "    return False\n",
    "\n",
    "string = \"abcccccda\"\n",
    "result = test_whether_have_same_character(string)\n",
    "print(f\"字符串'{string}'是否包含连续字符：{result}\")"
   ]
  }
 ],
 "metadata": {
  "kernelspec": {
   "display_name": "Python 3",
   "language": "python",
   "name": "python3"
  },
  "language_info": {
   "codemirror_mode": {
    "name": "ipython",
    "version": 3
   },
   "file_extension": ".py",
   "mimetype": "text/x-python",
   "name": "python",
   "nbconvert_exporter": "python",
   "pygments_lexer": "ipython3",
   "version": "3.10.11"
  }
 },
 "nbformat": 4,
 "nbformat_minor": 2
}
