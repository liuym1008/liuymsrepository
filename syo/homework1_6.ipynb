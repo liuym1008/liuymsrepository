{
 "cells": [
  {
   "cell_type": "code",
   "execution_count": 1,
   "metadata": {},
   "outputs": [
    {
     "name": "stdout",
     "output_type": "stream",
     "text": [
      "[5, 4, 3, 2, 1]\n",
      "[5, 4, 3, 2, 1]\n"
     ]
    }
   ],
   "source": [
    "# 第六题\n",
    "L = [1, 2, 3, 4, 5]\n",
    "# 创建一个新的空列表\n",
    "new_L1 = []\n",
    "# for循环\n",
    "for item in L[::-1]:\n",
    "    new_L1.append(item)\n",
    "print(new_L1)\n",
    "# 创建一个新的空列表\n",
    "new_L2 = []\n",
    "# while循环\n",
    "i = len(L) - 1\n",
    "while i >= 0:\n",
    "    new_L2.append(L[i])\n",
    "    i -= 1\n",
    "print(new_L2)"
   ]
  }
 ],
 "metadata": {
  "kernelspec": {
   "display_name": "Python 3",
   "language": "python",
   "name": "python3"
  },
  "language_info": {
   "codemirror_mode": {
    "name": "ipython",
    "version": 3
   },
   "file_extension": ".py",
   "mimetype": "text/x-python",
   "name": "python",
   "nbconvert_exporter": "python",
   "pygments_lexer": "ipython3",
   "version": "3.10.11"
  }
 },
 "nbformat": 4,
 "nbformat_minor": 2
}
