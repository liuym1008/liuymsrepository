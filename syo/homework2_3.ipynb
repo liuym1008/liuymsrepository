{
 "cells": [
  {
   "cell_type": "code",
   "execution_count": 5,
   "metadata": {},
   "outputs": [
    {
     "name": "stdout",
     "output_type": "stream",
     "text": [
      "十进制小数0.625的二进制表示为:0.101\n"
     ]
    }
   ],
   "source": [
    "# 第二周作业第三题\n",
    "# 十进制转二进制\n",
    "def ten_to_two(num_10, precision):\n",
    "    # 整数部分\n",
    "    a = int(num_10)\n",
    "    a_2 = bin(a)[2:]\n",
    "\n",
    "    # 小数部分\n",
    "    b = num_10 - a\n",
    "\n",
    "    # 将二进制数的初始值设为空字符串\n",
    "    b_2 = \"\"\n",
    "    # 用于限制精度，防止无限循环\n",
    "    i = 0\n",
    "\n",
    "    while b > 0 and i < precision:\n",
    "        b *= 2\n",
    "        if b >= 1:\n",
    "            b_2 += \"1\"\n",
    "            b -= 1\n",
    "        else:\n",
    "            b_2 += \"0\"\n",
    "        i += 1\n",
    "    return f\"{a_2}.{b_2}\"\n",
    "\n",
    "# 函数调用\n",
    "# 由用户输入十进制小数\n",
    "number = float(input(\"请输入一个十进制的小数： \"))\n",
    "# 转为二进制\n",
    "b_in_2 = ten_to_two(number, 10)\n",
    "# 打印结果\n",
    "print(f\"十进制小数{number}的二进制表示为:{b_in_2}\")"
   ]
  }
 ],
 "metadata": {
  "kernelspec": {
   "display_name": "Python 3",
   "language": "python",
   "name": "python3"
  },
  "language_info": {
   "codemirror_mode": {
    "name": "ipython",
    "version": 3
   },
   "file_extension": ".py",
   "mimetype": "text/x-python",
   "name": "python",
   "nbconvert_exporter": "python",
   "pygments_lexer": "ipython3",
   "version": "3.10.11"
  }
 },
 "nbformat": 4,
 "nbformat_minor": 2
}
