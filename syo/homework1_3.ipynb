{
 "cells": [
  {
   "cell_type": "code",
   "execution_count": 2,
   "metadata": {},
   "outputs": [
    {
     "name": "stdout",
     "output_type": "stream",
     "text": [
      "从大到小的顺序为：67.4, 45.9, 29.6, 12.3\n"
     ]
    }
   ],
   "source": [
    "# 第三题\n",
    "\n",
    "# 用户输入4个数\n",
    "w = float(input(\"please input the first number: \"))\n",
    "x = float(input(\"please input the second number: \"))\n",
    "y = float(input(\"please input the third number: \"))\n",
    "z = float(input(\"please input the fourth number: \"))\n",
    "\n",
    "# 创建列表进行排序\n",
    "L = [w, x, y, z]\n",
    "sorted_L = sorted(L, reverse=True)\n",
    "\n",
    "# 打印顺序\n",
    "print(f\"从大到小的顺序为：{sorted_L[0]}, {sorted_L[1]}, {sorted_L[2]}, {sorted_L[3]}\")"
   ]
  }
 ],
 "metadata": {
  "kernelspec": {
   "display_name": "Python 3",
   "language": "python",
   "name": "python3"
  },
  "language_info": {
   "codemirror_mode": {
    "name": "ipython",
    "version": 3
   },
   "file_extension": ".py",
   "mimetype": "text/x-python",
   "name": "python",
   "nbconvert_exporter": "python",
   "pygments_lexer": "ipython3",
   "version": "3.10.11"
  }
 },
 "nbformat": 4,
 "nbformat_minor": 2
}
