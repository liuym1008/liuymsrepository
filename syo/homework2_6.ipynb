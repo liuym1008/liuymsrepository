{
 "cells": [
  {
   "cell_type": "code",
   "execution_count": 1,
   "metadata": {},
   "outputs": [
    {
     "name": "stdout",
     "output_type": "stream",
     "text": [
      "[0, 1, 1, 2, 3, 5, 8, 13, 21, 34]\n"
     ]
    }
   ],
   "source": [
    "# 第二周作业第六题\n",
    "def fibonacci(n):  \n",
    "    # 如果n小于或等于0，返回空列表\n",
    "    if n <= 0:  \n",
    "        return []\n",
    "    # 如果n等于1，只返回0\n",
    "    elif n == 1:  \n",
    "        return [0]\n",
    "    # 如果n等于2，返回0和1\n",
    "    elif n == 2:  \n",
    "        return [0, 1]\n",
    "    else:    \n",
    "        # 初始化斐波那契数列的前两个数  \n",
    "        fibonacci_sequence = [0, 1]  \n",
    "  \n",
    "        # 使用循环计算斐波那契数列的剩余数  \n",
    "        for i in range(2, n):  \n",
    "            next_number = fibonacci_sequence[-1] + fibonacci_sequence[-2]  \n",
    "            fibonacci_sequence.append(next_number)  \n",
    "  \n",
    "        return fibonacci_sequence  \n",
    "  \n",
    "# 输出n=10的结果  \n",
    "print(fibonacci(10))  "
   ]
  }
 ],
 "metadata": {
  "kernelspec": {
   "display_name": "Python 3",
   "language": "python",
   "name": "python3"
  },
  "language_info": {
   "codemirror_mode": {
    "name": "ipython",
    "version": 3
   },
   "file_extension": ".py",
   "mimetype": "text/x-python",
   "name": "python",
   "nbconvert_exporter": "python",
   "pygments_lexer": "ipython3",
   "version": "3.10.11"
  }
 },
 "nbformat": 4,
 "nbformat_minor": 2
}
