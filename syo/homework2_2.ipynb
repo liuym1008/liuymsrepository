{
 "cells": [
  {
   "cell_type": "code",
   "execution_count": 2,
   "metadata": {},
   "outputs": [
    {
     "name": "stdout",
     "output_type": "stream",
     "text": [
      "86为良好\n"
     ]
    }
   ],
   "source": [
    "# 第二周作业第二题\n",
    "score = int(input(\"please input your score: \"))\n",
    "if (score < 60):\n",
    "    print(f\"{score}为不合格\")\n",
    "elif (60 <= score <= 74):\n",
    "    print(f\"{score}为合格\")\n",
    "elif (75 <= score <= 89):\n",
    "    print(f\"{score}为良好\")\n",
    "else:\n",
    "    print(f\"{score}为优秀\")"
   ]
  }
 ],
 "metadata": {
  "kernelspec": {
   "display_name": "Python 3",
   "language": "python",
   "name": "python3"
  },
  "language_info": {
   "codemirror_mode": {
    "name": "ipython",
    "version": 3
   },
   "file_extension": ".py",
   "mimetype": "text/x-python",
   "name": "python",
   "nbconvert_exporter": "python",
   "pygments_lexer": "ipython3",
   "version": "3.10.11"
  }
 },
 "nbformat": 4,
 "nbformat_minor": 2
}
