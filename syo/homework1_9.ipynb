{
 "cells": [
  {
   "cell_type": "code",
   "execution_count": 1,
   "metadata": {},
   "outputs": [
    {
     "name": "stdout",
     "output_type": "stream",
     "text": [
      "一共迭代了6次, 1.000000的立方根为1.000000\n",
      "一共迭代了8次, 27.000000的立方根为3.000000\n",
      "一共迭代了10次, 100.000000的立方根为4.641589\n",
      "一共迭代了6次, -8.000000的立方根为-2.000000\n"
     ]
    }
   ],
   "source": [
    "# 第九题\n",
    "def solve_cubic_root(number):\n",
    "    # number：待求解的数\n",
    "\n",
    "    # 初始猜测值x\n",
    "    x = number / 2\n",
    "    i = 0\n",
    "\n",
    "    while(abs(x ** 3 - number) > 1e-10):\n",
    "        # 计算f(x) = x^3 - number\n",
    "        f0 = x ** 3 - number\n",
    "        # 计算导数f'(x) = 3x^2\n",
    "        f1 = 3 * x ** 2\n",
    "        # 更新猜测值为x = x - f(x) / f'(x)\n",
    "        x = x - f0 / f1\n",
    "        i += 1\n",
    "    else:\n",
    "        print(\"一共迭代了%d次, %f的立方根为%f\" % (i, number, x))\n",
    "\n",
    "\n",
    "# 输出实例\n",
    "solve_cubic_root(1)\n",
    "solve_cubic_root(27)\n",
    "solve_cubic_root(100)\n",
    "solve_cubic_root(-8)"
   ]
  }
 ],
 "metadata": {
  "kernelspec": {
   "display_name": "Python 3",
   "language": "python",
   "name": "python3"
  },
  "language_info": {
   "codemirror_mode": {
    "name": "ipython",
    "version": 3
   },
   "file_extension": ".py",
   "mimetype": "text/x-python",
   "name": "python",
   "nbconvert_exporter": "python",
   "pygments_lexer": "ipython3",
   "version": "3.10.11"
  }
 },
 "nbformat": 4,
 "nbformat_minor": 2
}
