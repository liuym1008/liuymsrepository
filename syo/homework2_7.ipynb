{
 "cells": [
  {
   "cell_type": "code",
   "execution_count": 2,
   "metadata": {},
   "outputs": [
    {
     "name": "stdout",
     "output_type": "stream",
     "text": [
      "-1\n",
      "-1\n",
      "31\n"
     ]
    }
   ],
   "source": [
    "# 第二周作业第七题\n",
    "# 定义函数返回数组中第二大的数\n",
    "def second(array):\n",
    "    # 如果数组为空或者只有一个元素，则返回-1\n",
    "    if len(array) < 2:\n",
    "        return -1\n",
    "    \n",
    "    # 初始化最大的数和第二大的数为负无穷大  \n",
    "    largest = float('-inf')\n",
    "    second_largest = float('-inf')\n",
    "\n",
    "    for num in array:  \n",
    "        if num > largest:  \n",
    "            # 更新最大值和第二大的值  \n",
    "            second_largest = largest\n",
    "            largest = num\n",
    "        elif num > second_largest and num != largest:  \n",
    "            # 更新第二大的值，但要确保它不等于当前的最大值  \n",
    "            second_largest = num \n",
    "\n",
    "    # 如果第二大的数仍然是负无穷大，说明没有找到第二大的数（可能所有数都相同）  \n",
    "    if second_largest != float('-inf'):\n",
    "        return second_largest\n",
    "    else:\n",
    "        return -1\n",
    "\n",
    "# 测试函数\n",
    "if __name__ == '__main__':\n",
    "    # 数组1为空数组\n",
    "    array1 = []\n",
    "    print(second(array1))\n",
    "    # 数组2只有1个元素\n",
    "    array2 = [7]\n",
    "    print(second(array2))\n",
    "    # 数组3有多个元素\n",
    "    array3 = [2,46,31]\n",
    "    print(second(array3))\n"
   ]
  }
 ],
 "metadata": {
  "kernelspec": {
   "display_name": "Python 3",
   "language": "python",
   "name": "python3"
  },
  "language_info": {
   "codemirror_mode": {
    "name": "ipython",
    "version": 3
   },
   "file_extension": ".py",
   "mimetype": "text/x-python",
   "name": "python",
   "nbconvert_exporter": "python",
   "pygments_lexer": "ipython3",
   "version": "3.10.11"
  }
 },
 "nbformat": 4,
 "nbformat_minor": 2
}
