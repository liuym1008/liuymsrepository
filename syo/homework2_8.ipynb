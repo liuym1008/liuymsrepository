{
 "cells": [
  {
   "cell_type": "code",
   "execution_count": 3,
   "metadata": {},
   "outputs": [
    {
     "name": "stdout",
     "output_type": "stream",
     "text": [
      "True\n",
      "True\n",
      "False\n",
      "False\n",
      "False\n"
     ]
    }
   ],
   "source": [
    "import re  \n",
    "  \n",
    "def validate_id_card(id_card):  \n",
    "    # 定义正则表达式模式  \n",
    "    pattern = re.compile(r'^(?:[1-9]\\d{5})(?:19|20)\\d{2}(?:0[1-9]|1[0-2])(?:0[1-9]|[1-2]\\d|3[0-1])\\d{3}[\\d|X|x]$')  \n",
    "      \n",
    "    # 使用模式匹配输入的身份证号  \n",
    "    if pattern.match(id_card):  \n",
    "        # 提取年份、月份和日期  \n",
    "        year = int(id_card[6:10])  \n",
    "        month = int(id_card[10:12])  \n",
    "        day = int(id_card[12:14])  \n",
    "              \n",
    "        # 校验年份是否在合理范围内  \n",
    "        if year < 1900 or year > 2100:  \n",
    "            return False  \n",
    "              \n",
    "        # 校验月份和日期是否在合理范围内  \n",
    "        if month in [4, 6, 9, 11] and day > 30:\n",
    "            return False\n",
    "        elif month == 2:\n",
    "            if (year % 4 == 0 and year % 100!= 0) or year % 400 == 0:\n",
    "                if day > 29:\n",
    "                    return False\n",
    "            else:\n",
    "                if day > 28:\n",
    "                    return False\n",
    "        elif month < 1 or month > 12 or day < 1 or day > 31:\n",
    "            return False\n",
    "        return True\n",
    "        \n",
    "    else:  \n",
    "        # 如果身份证号不匹配正则表达式模式，则不合法  \n",
    "        return False  \n",
    "\n",
    "# 测试\n",
    "print(validate_id_card(\"11010519491229002X\")) \n",
    "print(validate_id_card(\"110105203510310068\"))\n",
    "print(validate_id_card(\"110105203502312378\"))\n",
    "print(validate_id_card(\"010105194912316439\"))\n",
    "print(validate_id_card(\"110105194913329367\"))  "
   ]
  }
 ],
 "metadata": {
  "kernelspec": {
   "display_name": "Python 3",
   "language": "python",
   "name": "python3"
  },
  "language_info": {
   "codemirror_mode": {
    "name": "ipython",
    "version": 3
   },
   "file_extension": ".py",
   "mimetype": "text/x-python",
   "name": "python",
   "nbconvert_exporter": "python",
   "pygments_lexer": "ipython3",
   "version": "3.10.11"
  }
 },
 "nbformat": 4,
 "nbformat_minor": 2
}
