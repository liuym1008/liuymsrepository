{
 "cells": [
  {
   "cell_type": "code",
   "execution_count": 1,
   "metadata": {},
   "outputs": [
    {
     "name": "stdout",
     "output_type": "stream",
     "text": [
      "45和81的最大公约数是9\n"
     ]
    }
   ],
   "source": [
    "# 使用欧几里得算法实现求解最大公约数\n",
    "# 定义函数\n",
    "def gcd(a, b):\n",
    "    while b:\n",
    "        t = a % b\n",
    "        a = b\n",
    "        b = t\n",
    "    return a\n",
    "\n",
    "# 用户输入两个正整数\n",
    "m = int(input(\"please input the first positive integer: \"))\n",
    "n = int(input(\"please input the second positive integer: \"))\n",
    "\n",
    "# 调用函数\n",
    "print(\"%d和%d的最大公约数是%d\" % (m, n, gcd(m, n)))"
   ]
  },
  {
   "cell_type": "code",
   "execution_count": 8,
   "metadata": {},
   "outputs": [
    {
     "name": "stdout",
     "output_type": "stream",
     "text": [
      "86为良好\n"
     ]
    }
   ],
   "source": [
    "score = int(input(\"please input your score: \"))\n",
    "if (score < 60):\n",
    "    print(f\"{score}为不合格\")\n",
    "elif (60 <= score <= 74):\n",
    "    print(f\"{score}为合格\")\n",
    "elif (75 <= score <= 89):\n",
    "    print(f\"{score}为良好\")\n",
    "else:\n",
    "    print(f\"{score}为优秀\")"
   ]
  },
  {
   "cell_type": "code",
   "execution_count": 3,
   "metadata": {},
   "outputs": [
    {
     "name": "stdout",
     "output_type": "stream",
     "text": [
      "十进制小数0.625的二进制表示为:0.101\n"
     ]
    }
   ],
   "source": [
    "# 第二周作业第三题\n",
    "# 十进制转二进制\n",
    "def ten_to_two(num_10, precision):\n",
    "    # 整数部分\n",
    "    a = int(num_10)\n",
    "    a_2 = bin(a)[2:]\n",
    "\n",
    "    # 小数部分\n",
    "    b = num_10 - a\n",
    "\n",
    "    # 将二进制数的初始值设为空字符串\n",
    "    b_2 = \"\"\n",
    "    # 用于限制精度，防止无限循环\n",
    "    i = 0\n",
    "\n",
    "    while b > 0 and i < precision:\n",
    "        b *= 2\n",
    "        if b >= 1:\n",
    "            b_2 += \"1\"\n",
    "            b -= 1\n",
    "        else:\n",
    "            b_2 += \"0\"\n",
    "        i += 1\n",
    "    return f\"{a_2}.{b_2}\"\n",
    "\n",
    "# 函数调用\n",
    "# 由用户输入十进制小数\n",
    "number = float(input(\"请输入一个十进制的小数： \"))\n",
    "# 转为二进制\n",
    "b_in_2 = ten_to_two(number, 10)\n",
    "# 打印结果\n",
    "print(f\"十进制小数{number}的二进制表示为:{b_in_2}\")"
   ]
  },
  {
   "cell_type": "code",
   "execution_count": 4,
   "metadata": {},
   "outputs": [
    {
     "name": "stdout",
     "output_type": "stream",
     "text": [
      "10.324539321123734\n"
     ]
    }
   ],
   "source": [
    "import random  \n",
    "  \n",
    "# 生成一个10到20之间的随机浮点数  \n",
    "random_float = random.uniform(10, 20)  \n",
    "  \n",
    "print(random_float)"
   ]
  },
  {
   "cell_type": "code",
   "execution_count": 5,
   "metadata": {},
   "outputs": [
    {
     "name": "stdout",
     "output_type": "stream",
     "text": [
      "1857581是回文数\n"
     ]
    }
   ],
   "source": [
    "# 用户输入一个数字\n",
    "x = int(input(\"please input a positive integer: \"))\n",
    "# 保留x这个数的值\n",
    "num = x\n",
    "# 将该数字转换成字符串\n",
    "x = str(x)\n",
    "# 将字符串倒序\n",
    "x_new = []\n",
    "for item in x[::-1]:\n",
    "    x_new.append(item)\n",
    "# 将倒序后的列表转换回字符串  \n",
    "x_new = ''.join(x_new)\n",
    "# 判断原数和倒序后的数是否相等\n",
    "if x == x_new:\n",
    "    print(\"%d是回文数\" % (num))\n",
    "else:\n",
    "    print(\"%d不是回文数\" % (num))"
   ]
  },
  {
   "cell_type": "code",
   "execution_count": 6,
   "metadata": {},
   "outputs": [
    {
     "name": "stdout",
     "output_type": "stream",
     "text": [
      "[0, 1, 1, 2, 3, 5, 8, 13, 21, 34]\n"
     ]
    }
   ],
   "source": [
    "def fibonacci(n):  \n",
    "    # 如果n小于或等于0，返回空列表\n",
    "    if n <= 0:  \n",
    "        return []\n",
    "    # 如果n等于1，只返回0\n",
    "    elif n == 1:  \n",
    "        return [0]\n",
    "    # 如果n等于2，返回0和1\n",
    "    elif n == 2:  \n",
    "        return [0, 1]\n",
    "    else:    \n",
    "        # 初始化斐波那契数列的前两个数  \n",
    "        fibonacci_sequence = [0, 1]  \n",
    "  \n",
    "        # 使用循环计算斐波那契数列的剩余数  \n",
    "        for i in range(2, n):  \n",
    "            next_number = fibonacci_sequence[-1] + fibonacci_sequence[-2]  \n",
    "            fibonacci_sequence.append(next_number)  \n",
    "  \n",
    "        return fibonacci_sequence  \n",
    "  \n",
    "# 输出n=10的结果  \n",
    "print(fibonacci(10))  "
   ]
  },
  {
   "cell_type": "code",
   "execution_count": 9,
   "metadata": {},
   "outputs": [
    {
     "name": "stdout",
     "output_type": "stream",
     "text": [
      "-1\n",
      "-1\n",
      "31\n"
     ]
    }
   ],
   "source": [
    "# 第二周作业第七题\n",
    "# 定义函数返回数组中第二大的数\n",
    "def second(array):\n",
    "    # 如果数组为空或者只有一个元素，则返回-1\n",
    "    if len(array) < 2:\n",
    "        return -1\n",
    "    \n",
    "    # 初始化最大的数和第二大的数为负无穷大  \n",
    "    largest = float('-inf')\n",
    "    second_largest = float('-inf')\n",
    "\n",
    "    for num in array:  \n",
    "        if num > largest:  \n",
    "            # 更新最大值和第二大的值  \n",
    "            second_largest = largest\n",
    "            largest = num\n",
    "        elif num > second_largest and num != largest:  \n",
    "            # 更新第二大的值，但要确保它不等于当前的最大值  \n",
    "            second_largest = num \n",
    "\n",
    "    # 如果第二大的数仍然是负无穷大，说明没有找到第二大的数（可能所有数都相同）  \n",
    "    if second_largest != float('-inf'):\n",
    "        return second_largest\n",
    "    else:\n",
    "        return -1\n",
    "\n",
    "# 测试函数\n",
    "if __name__ == '__main__':\n",
    "    # 数组1为空数组\n",
    "    array1 = []\n",
    "    print(second(array1))\n",
    "    # 数组2只有1个元素\n",
    "    array2 = [7]\n",
    "    print(second(array2))\n",
    "    # 数组3有多个元素\n",
    "    array3 = [2,46,31]\n",
    "    print(second(array3))"
   ]
  },
  {
   "cell_type": "code",
   "execution_count": 10,
   "metadata": {},
   "outputs": [
    {
     "name": "stdout",
     "output_type": "stream",
     "text": [
      "True\n",
      "True\n",
      "False\n",
      "False\n",
      "False\n"
     ]
    }
   ],
   "source": [
    "import re  \n",
    "  \n",
    "def validate_id_card(id_card):  \n",
    "    # 定义正则表达式模式  \n",
    "    pattern = re.compile(r'^(?:[1-9]\\d{5})(?:19|20)\\d{2}(?:0[1-9]|1[0-2])(?:0[1-9]|[1-2]\\d|3[0-1])\\d{3}[\\d|X|x]$')  \n",
    "      \n",
    "    # 使用模式匹配输入的身份证号  \n",
    "    if pattern.match(id_card):  \n",
    "        # 提取年份、月份和日期  \n",
    "        year = int(id_card[6:10])  \n",
    "        month = int(id_card[10:12])  \n",
    "        day = int(id_card[12:14])  \n",
    "              \n",
    "        # 校验年份是否在合理范围内  \n",
    "        if year < 1900 or year > 2100:  \n",
    "            return False  \n",
    "              \n",
    "        # 校验月份和日期是否在合理范围内  \n",
    "        if month in [4, 6, 9, 11] and day > 30:\n",
    "            return False\n",
    "        elif month == 2:\n",
    "            if (year % 4 == 0 and year % 100!= 0) or year % 400 == 0:\n",
    "                if day > 29:\n",
    "                    return False\n",
    "            else:\n",
    "                if day > 28:\n",
    "                    return False\n",
    "        elif month < 1 or month > 12 or day < 1 or day > 31:\n",
    "            return False\n",
    "        return True\n",
    "        \n",
    "    else:  \n",
    "        # 如果身份证号不匹配正则表达式模式，则不合法  \n",
    "        return False  \n",
    "\n",
    "# 测试\n",
    "print(validate_id_card(\"11010519491229002X\")) \n",
    "print(validate_id_card(\"110105203510310068\"))\n",
    "print(validate_id_card(\"110105203502312378\"))\n",
    "print(validate_id_card(\"010105194912316439\"))\n",
    "print(validate_id_card(\"110105194913329367\"))  "
   ]
  }
 ],
 "metadata": {
  "kernelspec": {
   "display_name": "Python 3",
   "language": "python",
   "name": "python3"
  },
  "language_info": {
   "codemirror_mode": {
    "name": "ipython",
    "version": 3
   },
   "file_extension": ".py",
   "mimetype": "text/x-python",
   "name": "python",
   "nbconvert_exporter": "python",
   "pygments_lexer": "ipython3",
   "version": "3.10.11"
  }
 },
 "nbformat": 4,
 "nbformat_minor": 2
}
