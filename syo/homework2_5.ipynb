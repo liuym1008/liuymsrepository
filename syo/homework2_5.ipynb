{
 "cells": [
  {
   "cell_type": "code",
   "execution_count": 4,
   "metadata": {},
   "outputs": [
    {
     "name": "stdout",
     "output_type": "stream",
     "text": [
      "1857581是回文数\n"
     ]
    }
   ],
   "source": [
    "# 第二周作业第五题\n",
    "# 用户输入一个数字\n",
    "x = int(input(\"please input a positive integer: \"))\n",
    "# 保留x这个数的值\n",
    "num = x\n",
    "# 将该数字转换成字符串\n",
    "x = str(x)\n",
    "# 将字符串倒序\n",
    "x_new = []\n",
    "for item in x[::-1]:\n",
    "    x_new.append(item)\n",
    "# 将倒序后的列表转换回字符串  \n",
    "x_new = ''.join(x_new)\n",
    "# 判断原数和倒序后的数是否相等\n",
    "if x == x_new:\n",
    "    print(\"%d是回文数\" % (num))\n",
    "else:\n",
    "    print(\"%d不是回文数\" % (num))"
   ]
  }
 ],
 "metadata": {
  "kernelspec": {
   "display_name": "Python 3",
   "language": "python",
   "name": "python3"
  },
  "language_info": {
   "codemirror_mode": {
    "name": "ipython",
    "version": 3
   },
   "file_extension": ".py",
   "mimetype": "text/x-python",
   "name": "python",
   "nbconvert_exporter": "python",
   "pygments_lexer": "ipython3",
   "version": "3.10.11"
  }
 },
 "nbformat": 4,
 "nbformat_minor": 2
}
