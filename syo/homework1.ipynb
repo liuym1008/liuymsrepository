{
 "cells": [
  {
   "cell_type": "code",
   "execution_count": 1,
   "metadata": {},
   "outputs": [
    {
     "name": "stdout",
     "output_type": "stream",
     "text": [
      "★★★★★★★★★★★\n",
      "★数据科学与工程导论★\n",
      "★★★★★★★★★★★\n"
     ]
    }
   ],
   "source": [
    "# 第一题\n",
    "print(chr(0x2605) * 11)\n",
    "print(chr(0x2605) * 1, end='')\n",
    "print(\"数据科学与工程导论\", end='')\n",
    "print(chr(0x2605) * 1)\n",
    "print(chr(0x2605) * 11)"
   ]
  },
  {
   "cell_type": "code",
   "execution_count": 3,
   "metadata": {},
   "outputs": [
    {
     "name": "stdout",
     "output_type": "stream",
     "text": [
      "从大到小的顺序为：46.27, 34.9, 12.97\n"
     ]
    }
   ],
   "source": [
    "# 第二题\n",
    "x = float(input(\"please input the first number: \"))\n",
    "y = float(input(\"please input the second number: \"))\n",
    "z = float(input(\"please input the third number: \"))\n",
    "\n",
    "# 创建列表进行排序\n",
    "list = [x, y, z]\n",
    "sorted_list = sorted(list, reverse=True)\n",
    "\n",
    "# 打印顺序\n",
    "print(f\"从大到小的顺序为：{sorted_list[0]}, {sorted_list[1]}, {sorted_list[2]}\")"
   ]
  },
  {
   "cell_type": "code",
   "execution_count": 4,
   "metadata": {},
   "outputs": [
    {
     "name": "stdout",
     "output_type": "stream",
     "text": [
      "从大到小的顺序为：56.9, 28.11, 27.54, 25.46\n"
     ]
    }
   ],
   "source": [
    "# 第三题\n",
    "\n",
    "# 用户输入4个数\n",
    "w = float(input(\"please input the first number: \"))\n",
    "x = float(input(\"please input the second number: \"))\n",
    "y = float(input(\"please input the third number: \"))\n",
    "z = float(input(\"please input the fourth number: \"))\n",
    "\n",
    "# 创建列表进行排序\n",
    "L = [w, x, y, z]\n",
    "sorted_L = sorted(L, reverse=True)\n",
    "\n",
    "# 打印顺序\n",
    "print(f\"从大到小的顺序为：{sorted_L[0]}, {sorted_L[1]}, {sorted_L[2]}, {sorted_L[3]}\")"
   ]
  },
  {
   "cell_type": "code",
   "execution_count": 5,
   "metadata": {},
   "outputs": [
    {
     "name": "stdout",
     "output_type": "stream",
     "text": [
      "1\n",
      "3\n",
      "5\n",
      "7\n",
      "9\n",
      "11\n",
      "13\n",
      "15\n",
      "17\n",
      "19\n",
      "21\n",
      "23\n",
      "25\n",
      "27\n",
      "29\n",
      "31\n",
      "33\n",
      "35\n",
      "37\n",
      "39\n",
      "41\n",
      "43\n",
      "45\n",
      "47\n",
      "49\n",
      "51\n",
      "53\n",
      "55\n",
      "57\n",
      "59\n",
      "61\n",
      "63\n",
      "65\n",
      "67\n",
      "69\n",
      "71\n",
      "73\n",
      "75\n",
      "77\n",
      "79\n",
      "81\n",
      "83\n",
      "85\n",
      "87\n",
      "89\n",
      "91\n",
      "93\n",
      "95\n",
      "97\n",
      "99\n"
     ]
    }
   ],
   "source": [
    "# 第四题\n",
    "for i in range(1, 101):\n",
    "    if i % 2 == 1:\n",
    "        print(i)"
   ]
  },
  {
   "cell_type": "code",
   "execution_count": 6,
   "metadata": {},
   "outputs": [
    {
     "name": "stdout",
     "output_type": "stream",
     "text": [
      "5050\n"
     ]
    }
   ],
   "source": [
    "# 第五题\n",
    "# 初始化总和sum等于0\n",
    "sum = 0\n",
    "for i in range(1, 101):\n",
    "    sum += i\n",
    "print(sum)"
   ]
  },
  {
   "cell_type": "code",
   "execution_count": 7,
   "metadata": {},
   "outputs": [
    {
     "name": "stdout",
     "output_type": "stream",
     "text": [
      "[5, 4, 3, 2, 1]\n",
      "[5, 4, 3, 2, 1]\n"
     ]
    }
   ],
   "source": [
    "# 第六题\n",
    "L = [1, 2, 3, 4, 5]\n",
    "# 创建一个新的空列表\n",
    "new_L1 = []\n",
    "# for循环\n",
    "for item in L[::-1]:\n",
    "    new_L1.append(item)\n",
    "print(new_L1)\n",
    "# 创建一个新的空列表\n",
    "new_L2 = []\n",
    "# while循环\n",
    "i = len(L) - 1\n",
    "while i >= 0:\n",
    "    new_L2.append(L[i])\n",
    "    i -= 1\n",
    "print(new_L2)"
   ]
  },
  {
   "cell_type": "code",
   "execution_count": 8,
   "metadata": {},
   "outputs": [
    {
     "name": "stdout",
     "output_type": "stream",
     "text": [
      "字符串'abcccccda'是否包含连续字符：True\n"
     ]
    }
   ],
   "source": [
    "# 第七题\n",
    "# 定义函数检验是否存在连续字符\n",
    "def test_whether_have_same_character(s):\n",
    "    for i in range(1, len(s)):\n",
    "        if s[i] == s[i + 1]:\n",
    "            return True\n",
    "    return False\n",
    "\n",
    "string = \"abcccccda\"\n",
    "result = test_whether_have_same_character(string)\n",
    "print(f\"字符串'{string}'是否包含连续字符：{result}\")"
   ]
  },
  {
   "cell_type": "code",
   "execution_count": 9,
   "metadata": {},
   "outputs": [
    {
     "name": "stdout",
     "output_type": "stream",
     "text": [
      "去掉空格之后的字符串为： DataScienceandEngineering\n"
     ]
    }
   ],
   "source": [
    "# 第八题\n",
    "# 用户输入一个字符串\n",
    "string = input(\"请输入一个字符串：\")\n",
    "# 去掉空格之后的字符串\n",
    "modified_string = string.replace(\" \", \"\")\n",
    "# 输出处理之后的字符串\n",
    "print(\"去掉空格之后的字符串为：\", modified_string)"
   ]
  },
  {
   "cell_type": "code",
   "execution_count": 10,
   "metadata": {},
   "outputs": [
    {
     "name": "stdout",
     "output_type": "stream",
     "text": [
      "一共迭代了6次, 1.000000的立方根为1.000000\n",
      "一共迭代了8次, 27.000000的立方根为3.000000\n",
      "一共迭代了10次, 100.000000的立方根为4.641589\n",
      "一共迭代了6次, -8.000000的立方根为-2.000000\n"
     ]
    }
   ],
   "source": [
    "# 第九题\n",
    "def solve_cubic_root(number):\n",
    "    # number：待求解的数\n",
    "\n",
    "    # 初始猜测值x\n",
    "    x = number / 2\n",
    "    i = 0\n",
    "\n",
    "    while(abs(x ** 3 - number) > 1e-10):\n",
    "        # 计算f(x) = x^3 - number\n",
    "        f0 = x ** 3 - number\n",
    "        # 计算导数f'(x) = 3x^2\n",
    "        f1 = 3 * x ** 2\n",
    "        # 更新猜测值为x = x - f(x) / f'(x)\n",
    "        x = x - f0 / f1\n",
    "        i += 1\n",
    "    else:\n",
    "        print(\"一共迭代了%d次, %f的立方根为%f\" % (i, number, x))\n",
    "\n",
    "\n",
    "# 输出实例\n",
    "solve_cubic_root(1)\n",
    "solve_cubic_root(27)\n",
    "solve_cubic_root(100)\n",
    "solve_cubic_root(-8)"
   ]
  },
  {
   "cell_type": "code",
   "execution_count": 11,
   "metadata": {},
   "outputs": [
    {
     "name": "stdout",
     "output_type": "stream",
     "text": [
      "4! = 24\n",
      "5! = 120\n"
     ]
    }
   ],
   "source": [
    "# 第十题\n",
    "# 定义函数计算阶乘\n",
    "def calculate_factorial(n):\n",
    "    if n < 0:\n",
    "        return False\n",
    "    elif n == 0 or n == 1:\n",
    "        return 1\n",
    "    else:\n",
    "        result = 1\n",
    "        for i in range(2, n + 1):\n",
    "            result *= i\n",
    "        return result\n",
    "    \n",
    "# 运行函数\n",
    "if __name__ == \"__main__\":\n",
    "    # 取number1为4\n",
    "    number1 = 4\n",
    "    # 输出4的阶乘结果\n",
    "    print(f\"{number1}! = {calculate_factorial(number1)}\")\n",
    "\n",
    "    # 取number2为5\n",
    "    number2 = 5\n",
    "    # 输出5的阶乘结果\n",
    "    print(f\"{number2}! = {calculate_factorial(number2)}\")"
   ]
  }
 ],
 "metadata": {
  "kernelspec": {
   "display_name": "Python 3",
   "language": "python",
   "name": "python3"
  },
  "language_info": {
   "codemirror_mode": {
    "name": "ipython",
    "version": 3
   },
   "file_extension": ".py",
   "mimetype": "text/x-python",
   "name": "python",
   "nbconvert_exporter": "python",
   "pygments_lexer": "ipython3",
   "version": "3.10.11"
  }
 },
 "nbformat": 4,
 "nbformat_minor": 2
}
